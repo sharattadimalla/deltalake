{
 "cells": [
  {
   "cell_type": "code",
   "execution_count": 1,
   "id": "a1ab52f8",
   "metadata": {},
   "outputs": [
    {
     "name": "stdout",
     "output_type": "stream",
     "text": [
      ":: loading settings :: url = jar:file:/Users/sharattadimalla/github/deltalake/myenv/lib/python3.9/site-packages/pyspark/jars/ivy-2.5.0.jar!/org/apache/ivy/core/settings/ivysettings.xml\n"
     ]
    },
    {
     "name": "stderr",
     "output_type": "stream",
     "text": [
      "Ivy Default Cache set to: /Users/sharattadimalla/.ivy2/cache\n",
      "The jars for the packages stored in: /Users/sharattadimalla/.ivy2/jars\n",
      "io.delta#delta-core_2.12 added as a dependency\n",
      ":: resolving dependencies :: org.apache.spark#spark-submit-parent-88f88112-de04-42aa-a82d-a379dd16cfdd;1.0\n",
      "\tconfs: [default]\n",
      "\tfound io.delta#delta-core_2.12;2.1.1 in central\n",
      "\tfound io.delta#delta-storage;2.1.1 in central\n",
      "\tfound org.antlr#antlr4-runtime;4.8 in local-m2-cache\n",
      "\tfound org.codehaus.jackson#jackson-core-asl;1.9.13 in local-m2-cache\n",
      ":: resolution report :: resolve 189ms :: artifacts dl 9ms\n",
      "\t:: modules in use:\n",
      "\tio.delta#delta-core_2.12;2.1.1 from central in [default]\n",
      "\tio.delta#delta-storage;2.1.1 from central in [default]\n",
      "\torg.antlr#antlr4-runtime;4.8 from local-m2-cache in [default]\n",
      "\torg.codehaus.jackson#jackson-core-asl;1.9.13 from local-m2-cache in [default]\n",
      "\t---------------------------------------------------------------------\n",
      "\t|                  |            modules            ||   artifacts   |\n",
      "\t|       conf       | number| search|dwnlded|evicted|| number|dwnlded|\n",
      "\t---------------------------------------------------------------------\n",
      "\t|      default     |   4   |   0   |   0   |   0   ||   4   |   0   |\n",
      "\t---------------------------------------------------------------------\n",
      ":: retrieving :: org.apache.spark#spark-submit-parent-88f88112-de04-42aa-a82d-a379dd16cfdd\n",
      "\tconfs: [default]\n",
      "\t0 artifacts copied, 4 already retrieved (0kB/8ms)\n"
     ]
    },
    {
     "name": "stdout",
     "output_type": "stream",
     "text": [
      "22/11/23 23:38:49 WARN NativeCodeLoader: Unable to load native-hadoop library for your platform... using builtin-java classes where applicable\n"
     ]
    },
    {
     "name": "stderr",
     "output_type": "stream",
     "text": [
      "Setting default log level to \"WARN\".\n",
      "To adjust logging level use sc.setLogLevel(newLevel). For SparkR, use setLogLevel(newLevel).\n"
     ]
    }
   ],
   "source": [
    "import pyspark\n",
    "from delta import *\n",
    "\n",
    "builder = pyspark.sql.SparkSession.builder.appName(\"Delta CRUD\") \\\n",
    "    .config(\"spark.sql.extensions\", \"io.delta.sql.DeltaSparkSessionExtension\") \\\n",
    "    .config(\"spark.sql.catalog.spark_catalog\", \"org.apache.spark.sql.delta.catalog.DeltaCatalog\")\n",
    "\n",
    "spark = configure_spark_with_delta_pip(builder).getOrCreate()"
   ]
  },
  {
   "cell_type": "code",
   "execution_count": 2,
   "id": "28a29761",
   "metadata": {},
   "outputs": [
    {
     "name": "stderr",
     "output_type": "stream",
     "text": [
      "\r",
      "[Stage 0:>                                                          (0 + 0) / 8]\r"
     ]
    },
    {
     "name": "stdout",
     "output_type": "stream",
     "text": [
      "+---+\n",
      "| id|\n",
      "+---+\n",
      "|  0|\n",
      "|  1|\n",
      "|  2|\n",
      "|  3|\n",
      "|  4|\n",
      "+---+\n",
      "\n"
     ]
    },
    {
     "name": "stderr",
     "output_type": "stream",
     "text": [
      "\r",
      "[Stage 0:>                                                          (0 + 8) / 8]\r",
      "\r",
      "                                                                                \r"
     ]
    }
   ],
   "source": [
    "df = spark.range(0,5)\n",
    "df.show()"
   ]
  },
  {
   "cell_type": "markdown",
   "id": "241ba6d6",
   "metadata": {},
   "source": [
    "## Insert Records"
   ]
  },
  {
   "cell_type": "code",
   "execution_count": 5,
   "id": "f52bae49",
   "metadata": {},
   "outputs": [],
   "source": [
    "%%sh\n",
    "rm -rf output/append-delta-tbl/"
   ]
  },
  {
   "cell_type": "code",
   "execution_count": 6,
   "id": "ba665f77",
   "metadata": {},
   "outputs": [
    {
     "name": "stderr",
     "output_type": "stream",
     "text": [
      "\r",
      "[Stage 22:=============================================>          (41 + 8) / 50]\r",
      "\r",
      "                                                                                \r"
     ]
    }
   ],
   "source": [
    "df.write \\\n",
    "  .format(\"delta\") \\\n",
    "  .mode(\"append\") \\\n",
    "  .save(\"output/append-delta-tbl/\")"
   ]
  },
  {
   "cell_type": "markdown",
   "id": "2496ac42",
   "metadata": {},
   "source": [
    "## Read inserted records"
   ]
  },
  {
   "cell_type": "code",
   "execution_count": 7,
   "id": "47980c37",
   "metadata": {},
   "outputs": [
    {
     "name": "stdout",
     "output_type": "stream",
     "text": [
      "+---+\n",
      "| id|\n",
      "+---+\n",
      "|  2|\n",
      "|  0|\n",
      "|  3|\n",
      "|  1|\n",
      "|  4|\n",
      "+---+\n",
      "\n"
     ]
    }
   ],
   "source": [
    "spark.read.format(\"delta\").load(\"output/append-delta-tbl/\").show()"
   ]
  },
  {
   "cell_type": "markdown",
   "id": "c0a46f40",
   "metadata": {},
   "source": [
    "## Update records by overwriting"
   ]
  },
  {
   "cell_type": "code",
   "execution_count": 8,
   "id": "9976b227",
   "metadata": {},
   "outputs": [
    {
     "name": "stdout",
     "output_type": "stream",
     "text": [
      "+---+\n",
      "| id|\n",
      "+---+\n",
      "|  3|\n",
      "|  4|\n",
      "|  5|\n",
      "|  6|\n",
      "|  7|\n",
      "+---+\n",
      "\n"
     ]
    }
   ],
   "source": [
    "update_df = spark.range(3,8)\n",
    "update_df.show()"
   ]
  },
  {
   "cell_type": "code",
   "execution_count": 9,
   "id": "2fe43eb1",
   "metadata": {},
   "outputs": [],
   "source": [
    "update_df.write \\\n",
    "  .format(\"delta\") \\\n",
    "  .mode(\"overwrite\") \\\n",
    "  .save(\"output/append-delta-tbl/\")"
   ]
  },
  {
   "cell_type": "markdown",
   "id": "e7f31d7f",
   "metadata": {},
   "source": [
    "## Read updated records"
   ]
  },
  {
   "cell_type": "code",
   "execution_count": 10,
   "id": "f3a036f4",
   "metadata": {},
   "outputs": [
    {
     "name": "stdout",
     "output_type": "stream",
     "text": [
      "+---+\n",
      "| id|\n",
      "+---+\n",
      "|  6|\n",
      "|  7|\n",
      "|  5|\n",
      "|  3|\n",
      "|  4|\n",
      "+---+\n",
      "\n"
     ]
    }
   ],
   "source": [
    "spark.read.format(\"delta\").load(\"output/append-delta-tbl/\").show()"
   ]
  },
  {
   "cell_type": "markdown",
   "id": "280d3ce9",
   "metadata": {},
   "source": [
    "## conditional update"
   ]
  },
  {
   "cell_type": "code",
   "execution_count": 11,
   "id": "67e7e913",
   "metadata": {},
   "outputs": [],
   "source": [
    "from delta.tables import *\n",
    "from pyspark.sql.functions import *\n",
    "\n",
    "deltaTable = DeltaTable.forPath(spark, \"output/append-delta-tbl/\")"
   ]
  },
  {
   "cell_type": "markdown",
   "id": "49a9a8f8",
   "metadata": {},
   "source": [
    "## Update even values with their squared value"
   ]
  },
  {
   "cell_type": "code",
   "execution_count": 12,
   "id": "ac0d133a",
   "metadata": {},
   "outputs": [
    {
     "name": "stderr",
     "output_type": "stream",
     "text": [
      "\r",
      "[Stage 54:================================================>       (43 + 7) / 50]\r",
      "\r",
      "                                                                                \r"
     ]
    }
   ],
   "source": [
    "deltaTable.update(\n",
    "  condition = expr(\"id % 2 == 0\"),\n",
    "  set = { \"id\": expr(\"id * id\") })"
   ]
  },
  {
   "cell_type": "markdown",
   "id": "da40d34f",
   "metadata": {},
   "source": [
    "## Read conditionally updated records"
   ]
  },
  {
   "cell_type": "code",
   "execution_count": 13,
   "id": "f3903ef3",
   "metadata": {},
   "outputs": [
    {
     "name": "stdout",
     "output_type": "stream",
     "text": [
      "+---+\n",
      "| id|\n",
      "+---+\n",
      "|  7|\n",
      "|  5|\n",
      "|  3|\n",
      "| 16|\n",
      "| 36|\n",
      "+---+\n",
      "\n"
     ]
    }
   ],
   "source": [
    "spark.read.format(\"delta\").load(\"output/append-delta-tbl/\").show()"
   ]
  },
  {
   "cell_type": "markdown",
   "id": "17d90ece",
   "metadata": {},
   "source": [
    "## delete records - all odd numbers"
   ]
  },
  {
   "cell_type": "code",
   "execution_count": 14,
   "id": "07e544e9",
   "metadata": {},
   "outputs": [],
   "source": [
    "deltaTable.delete(condition = expr(\"id % 2 <> 0\"))"
   ]
  },
  {
   "cell_type": "markdown",
   "id": "547f9a88",
   "metadata": {},
   "source": [
    "## Read after conditional deletion"
   ]
  },
  {
   "cell_type": "code",
   "execution_count": 15,
   "id": "7f8a39bf",
   "metadata": {},
   "outputs": [
    {
     "name": "stdout",
     "output_type": "stream",
     "text": [
      "+---+\n",
      "| id|\n",
      "+---+\n",
      "| 16|\n",
      "| 36|\n",
      "+---+\n",
      "\n"
     ]
    }
   ],
   "source": [
    "spark.read.format(\"delta\").load(\"output/append-delta-tbl/\").show()"
   ]
  },
  {
   "cell_type": "markdown",
   "id": "551834c1",
   "metadata": {},
   "source": [
    "## Upsert or Merge"
   ]
  },
  {
   "cell_type": "code",
   "execution_count": 16,
   "id": "18243d27",
   "metadata": {},
   "outputs": [
    {
     "name": "stdout",
     "output_type": "stream",
     "text": [
      "+---+\n",
      "| id|\n",
      "+---+\n",
      "|250|\n",
      "|251|\n",
      "|252|\n",
      "|253|\n",
      "|254|\n",
      "|255|\n",
      "|256|\n",
      "| 16|\n",
      "| 36|\n",
      "+---+\n",
      "\n"
     ]
    }
   ],
   "source": [
    "upsert_df = spark.range(250,257)\n",
    "\n",
    "deltaTable.alias(\"oldData\") \\\n",
    "  .merge(\n",
    "    upsert_df.alias(\"newData\"),\n",
    "    \"oldData.id = newData.id\") \\\n",
    "  .whenMatchedUpdate(set = { \"id\": col(\"newData.id\") }) \\\n",
    "  .whenNotMatchedInsert(values = { \"id\": col(\"newData.id\") }) \\\n",
    "  .execute()\n",
    "\n",
    "deltaTable.toDF().show()"
   ]
  },
  {
   "cell_type": "code",
   "execution_count": null,
   "id": "13be6c64",
   "metadata": {},
   "outputs": [],
   "source": []
  }
 ],
 "metadata": {
  "kernelspec": {
   "display_name": "Python 3 (ipykernel)",
   "language": "python",
   "name": "python3"
  },
  "language_info": {
   "codemirror_mode": {
    "name": "ipython",
    "version": 3
   },
   "file_extension": ".py",
   "mimetype": "text/x-python",
   "name": "python",
   "nbconvert_exporter": "python",
   "pygments_lexer": "ipython3",
   "version": "3.9.14"
  }
 },
 "nbformat": 4,
 "nbformat_minor": 5
}
