{
 "cells": [
  {
   "cell_type": "markdown",
   "id": "1a634a13",
   "metadata": {},
   "source": [
    "## Delta Lake"
   ]
  },
  {
   "cell_type": "markdown",
   "id": "ba5e6dea",
   "metadata": {},
   "source": [
    "## What are the **benefits** of delta lake?\n",
    "\n",
    "* Open source (not properity, no licensing costs)\n",
    "* Provides A.C.I.D Transactions on object storages like AWS S3 (data lake) (re\n",
    "* Unifies stream and batch processing\n",
    "* Time Travel\n",
    "* Schema enforcement"
   ]
  },
  {
   "cell_type": "markdown",
   "id": "ce2ad3df",
   "metadata": {},
   "source": [
    "## What is delta Lake?\n",
    "\n",
    "* Storage format built on top of `parquet`\n",
    "* delta = parquet + transaction"
   ]
  },
  {
   "cell_type": "markdown",
   "id": "4f9758b4",
   "metadata": {},
   "source": [
    "## Setup PySpark"
   ]
  },
  {
   "cell_type": "code",
   "execution_count": 1,
   "id": "21cf1791",
   "metadata": {},
   "outputs": [],
   "source": [
    "import pyspark\n",
    "from delta import *"
   ]
  },
  {
   "cell_type": "markdown",
   "id": "0dcb3f89",
   "metadata": {},
   "source": [
    "## Setup Spark Session"
   ]
  },
  {
   "cell_type": "code",
   "execution_count": 2,
   "id": "0910266e",
   "metadata": {},
   "outputs": [
    {
     "name": "stdout",
     "output_type": "stream",
     "text": [
      ":: loading settings :: url = jar:file:/Users/sharattadimalla/github/deltalake/myenv/lib/python3.9/site-packages/pyspark/jars/ivy-2.5.0.jar!/org/apache/ivy/core/settings/ivysettings.xml\n"
     ]
    },
    {
     "name": "stderr",
     "output_type": "stream",
     "text": [
      "Ivy Default Cache set to: /Users/sharattadimalla/.ivy2/cache\n",
      "The jars for the packages stored in: /Users/sharattadimalla/.ivy2/jars\n",
      "io.delta#delta-core_2.12 added as a dependency\n",
      ":: resolving dependencies :: org.apache.spark#spark-submit-parent-ba479267-e51a-43e9-a37e-a0b031c639fd;1.0\n",
      "\tconfs: [default]\n",
      "\tfound io.delta#delta-core_2.12;2.1.1 in central\n",
      "\tfound io.delta#delta-storage;2.1.1 in central\n",
      "\tfound org.antlr#antlr4-runtime;4.8 in local-m2-cache\n",
      "\tfound org.codehaus.jackson#jackson-core-asl;1.9.13 in local-m2-cache\n",
      ":: resolution report :: resolve 179ms :: artifacts dl 9ms\n",
      "\t:: modules in use:\n",
      "\tio.delta#delta-core_2.12;2.1.1 from central in [default]\n",
      "\tio.delta#delta-storage;2.1.1 from central in [default]\n",
      "\torg.antlr#antlr4-runtime;4.8 from local-m2-cache in [default]\n",
      "\torg.codehaus.jackson#jackson-core-asl;1.9.13 from local-m2-cache in [default]\n",
      "\t---------------------------------------------------------------------\n",
      "\t|                  |            modules            ||   artifacts   |\n",
      "\t|       conf       | number| search|dwnlded|evicted|| number|dwnlded|\n",
      "\t---------------------------------------------------------------------\n",
      "\t|      default     |   4   |   0   |   0   |   0   ||   4   |   0   |\n",
      "\t---------------------------------------------------------------------\n",
      ":: retrieving :: org.apache.spark#spark-submit-parent-ba479267-e51a-43e9-a37e-a0b031c639fd\n",
      "\tconfs: [default]\n",
      "\t0 artifacts copied, 4 already retrieved (0kB/9ms)\n"
     ]
    },
    {
     "name": "stdout",
     "output_type": "stream",
     "text": [
      "22/11/23 23:15:37 WARN NativeCodeLoader: Unable to load native-hadoop library for your platform... using builtin-java classes where applicable\n"
     ]
    },
    {
     "name": "stderr",
     "output_type": "stream",
     "text": [
      "Setting default log level to \"WARN\".\n",
      "To adjust logging level use sc.setLogLevel(newLevel). For SparkR, use setLogLevel(newLevel).\n"
     ]
    },
    {
     "data": {
      "text/html": [
       "\n",
       "            <div>\n",
       "                <p><b>SparkSession - in-memory</b></p>\n",
       "                \n",
       "        <div>\n",
       "            <p><b>SparkContext</b></p>\n",
       "\n",
       "            <p><a href=\"http://sharats-mbp.fios-router.home:4040\">Spark UI</a></p>\n",
       "\n",
       "            <dl>\n",
       "              <dt>Version</dt>\n",
       "                <dd><code>v3.3.1</code></dd>\n",
       "              <dt>Master</dt>\n",
       "                <dd><code>local[*]</code></dd>\n",
       "              <dt>AppName</dt>\n",
       "                <dd><code>Delta Lake Exploration</code></dd>\n",
       "            </dl>\n",
       "        </div>\n",
       "        \n",
       "            </div>\n",
       "        "
      ],
      "text/plain": [
       "<pyspark.sql.session.SparkSession at 0x10f791af0>"
      ]
     },
     "execution_count": 2,
     "metadata": {},
     "output_type": "execute_result"
    }
   ],
   "source": [
    "builder = pyspark.sql.SparkSession.builder.appName(\"Delta Lake Exploration\") \\\n",
    "    .config(\"spark.sql.extensions\", \"io.delta.sql.DeltaSparkSessionExtension\") \\\n",
    "    .config(\"spark.sql.catalog.spark_catalog\", \"org.apache.spark.sql.delta.catalog.DeltaCatalog\")\n",
    "\n",
    "spark = configure_spark_with_delta_pip(builder).getOrCreate()\n",
    "\n",
    "spark"
   ]
  },
  {
   "cell_type": "markdown",
   "id": "43fdea7e",
   "metadata": {},
   "source": [
    "## Create a sample dataframe"
   ]
  },
  {
   "cell_type": "code",
   "execution_count": 3,
   "id": "492390b8",
   "metadata": {},
   "outputs": [
    {
     "name": "stdout",
     "output_type": "stream",
     "text": [
      "+---+\n",
      "| id|\n",
      "+---+\n",
      "|  0|\n",
      "|  1|\n",
      "|  2|\n",
      "|  3|\n",
      "|  4|\n",
      "+---+\n",
      "\n"
     ]
    }
   ],
   "source": [
    "df = spark.range(0,5)\n",
    "df.show(5)"
   ]
  },
  {
   "cell_type": "markdown",
   "id": "240c9cd0",
   "metadata": {},
   "source": [
    "## Write to delta"
   ]
  },
  {
   "cell_type": "code",
   "execution_count": 4,
   "id": "3803b01d",
   "metadata": {},
   "outputs": [
    {
     "name": "stderr",
     "output_type": "stream",
     "text": [
      "                                                                                \r"
     ]
    }
   ],
   "source": [
    "df.write.format(\"delta\").mode(\"overwrite\").save(\"output/test-delta1/\")"
   ]
  },
  {
   "cell_type": "markdown",
   "id": "cb86f373",
   "metadata": {},
   "source": [
    "## Inspect directory structure"
   ]
  },
  {
   "cell_type": "code",
   "execution_count": 5,
   "id": "51c29de3",
   "metadata": {},
   "outputs": [
    {
     "name": "stdout",
     "output_type": "stream",
     "text": [
      "_delta_log\n",
      "part-00000-72101c27-7d30-4169-bb73-9887e7bffc24-c000.snappy.parquet\n",
      "part-00000-98572999-4e43-4eaf-9e7e-1f211d0373ec-c000.snappy.parquet\n",
      "part-00000-ef997ee7-b9db-4e6b-b009-9fc40adb11a0-c000.snappy.parquet\n",
      "part-00001-0e4af7b1-0496-4a18-8306-ccb5a649a4bd-c000.snappy.parquet\n",
      "part-00001-a83dfff4-a13a-421b-a67e-1e421349af17-c000.snappy.parquet\n",
      "part-00001-bc54fecc-f9f5-4f29-891c-f6dd0f19327a-c000.snappy.parquet\n",
      "part-00003-32441770-0198-4fea-b88a-429997614782-c000.snappy.parquet\n",
      "part-00003-5eeb352b-8d00-4843-9e2c-b547f97c69e4-c000.snappy.parquet\n",
      "part-00003-6d3fb9eb-6112-48a8-b112-4a37bf820a17-c000.snappy.parquet\n",
      "part-00004-32f7a9ed-9ff1-4dac-82df-e91bb7f666e0-c000.snappy.parquet\n",
      "part-00004-85ca6d3a-facd-4320-b8bd-6ae1cc60a81d-c000.snappy.parquet\n",
      "part-00004-9e63a60e-126a-468d-b94c-152695493e61-c000.snappy.parquet\n",
      "part-00006-1eff4a82-e2f1-4634-9fe2-5c9921c9dca9-c000.snappy.parquet\n",
      "part-00006-90d5f79d-7802-4e27-aa3b-c0fd89810bbe-c000.snappy.parquet\n",
      "part-00006-a38c55c0-0240-4d80-8983-5fc697b87728-c000.snappy.parquet\n",
      "part-00007-3be54f2d-3644-48b5-bcd9-0b8eca3d2ef8-c000.snappy.parquet\n",
      "part-00007-7254954e-5419-4353-9913-18c8a1d23f6c-c000.snappy.parquet\n",
      "part-00007-dc4814b6-cb56-44d9-8f65-8fa860cf49d8-c000.snappy.parquet\n"
     ]
    }
   ],
   "source": [
    "%%sh\n",
    "ls output/test-delta1/"
   ]
  },
  {
   "cell_type": "markdown",
   "id": "6e67a72c",
   "metadata": {},
   "source": [
    "## Inspect directory **_delta_log**"
   ]
  },
  {
   "cell_type": "code",
   "execution_count": null,
   "id": "87e449c4",
   "metadata": {},
   "outputs": [],
   "source": [
    "%%sh\n",
    "ls output/test-delta1/_delta_log/"
   ]
  },
  {
   "cell_type": "code",
   "execution_count": null,
   "id": "3d50419f",
   "metadata": {},
   "outputs": [],
   "source": [
    "%%sh\n",
    "cat output/test-delta1/_delta_log/00000000000000000000.json"
   ]
  },
  {
   "cell_type": "code",
   "execution_count": null,
   "id": "e7fbdd4e",
   "metadata": {},
   "outputs": [],
   "source": []
  }
 ],
 "metadata": {
  "kernelspec": {
   "display_name": "Python 3 (ipykernel)",
   "language": "python",
   "name": "python3"
  },
  "language_info": {
   "codemirror_mode": {
    "name": "ipython",
    "version": 3
   },
   "file_extension": ".py",
   "mimetype": "text/x-python",
   "name": "python",
   "nbconvert_exporter": "python",
   "pygments_lexer": "ipython3",
   "version": "3.9.14"
  }
 },
 "nbformat": 4,
 "nbformat_minor": 5
}
